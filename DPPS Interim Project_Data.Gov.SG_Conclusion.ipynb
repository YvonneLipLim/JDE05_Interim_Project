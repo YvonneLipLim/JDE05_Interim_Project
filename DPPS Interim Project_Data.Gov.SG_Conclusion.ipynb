{
 "cells": [
  {
   "attachments": {},
   "cell_type": "markdown",
   "id": "cde489fc-bb7d-4abe-b9ff-a227c2c302d6",
   "metadata": {},
   "source": [
    "# **Generation SG Junior Data Engineer Programme**\n",
    "### **Interim Project presented by DPPS Team (5)**<br><span style=\"color:darkblue; font-weight:bold;\">Members: Daniel | Pin Pin, Yvonne | Pin Yeen, Erica | Shawn</span>\n",
    "\n",
    "\n",
    "<br /> <br />\n",
    "## Next step …\n",
    "\n",
    "To further refine the project, we can take a look at the database model. There a total of five different tables for this project. We have done normalisation and transformation but due to time constraint, we were not able to fully normalise the resale\\_flat\\_txn table. It can be further broken down to reduce dependancies and redundancies by splitting out  flat type, flat model, even street name to new tables. This will turn the scheme into a Dimensional Galaxy Model.\n",
    "\n",
    "## Conclusion\n",
    "\n",
    "We have come to the end of our project. Through this project, we learnt that COVID19 created a demand for resale flats, causing  prices to soar across the the board. We also learnt that ….  TO BE CONTINUED\n"
   ]
  },
  {
   "cell_type": "code",
   "execution_count": null,
   "id": "129061f9-0764-43c3-87db-768212d0102d",
   "metadata": {},
   "outputs": [],
   "source": []
  }
 ],
 "metadata": {
  "kernelspec": {
   "display_name": "Python 3 (ipykernel)",
   "language": "python",
   "name": "python3"
  },
  "language_info": {
   "codemirror_mode": {
    "name": "ipython",
    "version": 3
   },
   "file_extension": ".py",
   "mimetype": "text/x-python",
   "name": "python",
   "nbconvert_exporter": "python",
   "pygments_lexer": "ipython3",
   "version": "3.12.4"
  }
 },
 "nbformat": 4,
 "nbformat_minor": 5
}
