{
 "cells": [
  {
   "attachments": {},
   "cell_type": "markdown",
   "id": "cde489fc-bb7d-4abe-b9ff-a227c2c302d6",
   "metadata": {},
   "source": [
    "# **Generation SG Junior Data Engineer Programme**\n",
    "### **Interim Project presented by DPPS Team (5)**<br><span style=\"color:darkblue; font-weight:bold;\">Members: Daniel | Pin Pin, Yvonne | Pin Yeen, Erica | Shawn</span>\n",
    "\n",
    "\n",
    "<br /> <br />\n",
    "## Challenges encountered and workarounds\n",
    "\n",
    "The team decided to take a local centric approach as it is more easily understood by the audience. Due to the lock down during the COVID19 years, pent up demand for international travel among the locals has increased. With the relatively strong Singapore dollar, Singaporeans have filling up planes and flying off to favourite destinations like Korea and Japan.\n",
    "\n",
    "However, one phenomenon the team noticed was the difference in ticket prices before and after COVID:  tickets cost relatively more compared to pre-COVID years. \n",
    "\n",
    "We pursued several sources like Amadeus, Trip.com, Booking.com, Singapore Airlines, Agoda, Expedia etc.  Unfortunately, none  of them provided historical prices that we could use.\n",
    "\n",
    "By this time, we have already spent a few days with no results. Therefore, we decided on another local context theme: **resale HDB in relation to weather**.\n",
    "\n",
    "### Problem \n",
    "\n",
    "DATA.GOV.SG  has API calls that are easy to access without cumbersome requirements or costs. We are able to obtain all out datasets from there. However, due to the need to request for a year's worth of weather information, the API call process can become a bottleneck and slow down the processes for acquisition, testing and validation.\n",
    "\n",
    "### Solution \n",
    "\n",
    "As the sequential calling takes too much time, a parallel approach was implemented with the use of ThreadPoolExecutor. It allows concurrent data fetching, dramatically reducing the time required to request data.\n",
    "\n",
    "```python\n",
    " with ThreadPoolExecutor(max_workers=10) as executor:\n",
    "        future_to_date = {executor.submit(fetch_air_temperature_data, date): date for date in date_range}\n",
    "        data_frames = []\n",
    "```"
   ]
  },
  {
   "cell_type": "markdown",
   "id": "21ab3315-1795-499f-95dd-a0b538fe2de0",
   "metadata": {},
   "source": []
  }
 ],
 "metadata": {
  "kernelspec": {
   "display_name": "Python 3 (ipykernel)",
   "language": "python",
   "name": "python3"
  },
  "language_info": {
   "codemirror_mode": {
    "name": "ipython",
    "version": 3
   },
   "file_extension": ".py",
   "mimetype": "text/x-python",
   "name": "python",
   "nbconvert_exporter": "python",
   "pygments_lexer": "ipython3",
   "version": "3.12.4"
  }
 },
 "nbformat": 4,
 "nbformat_minor": 5
}
