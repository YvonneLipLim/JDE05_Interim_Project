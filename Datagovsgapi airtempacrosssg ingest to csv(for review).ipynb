{
 "cells": [
  {
   "cell_type": "code",
   "execution_count": null,
   "id": "92e5d812-3fee-4847-bdcd-fd5ad81bddb9",
   "metadata": {},
   "outputs": [],
   "source": [
    "import requests\n",
    "import pandas as pd"
   ]
  },
  {
   "cell_type": "code",
   "execution_count": 9,
   "id": "3e3a59e9-2dbf-4ef4-b24a-7b7eb634d7ff",
   "metadata": {},
   "outputs": [
    {
     "name": "stdout",
     "output_type": "stream",
     "text": [
      "  station_id  value device_id                 name  \\\n",
      "0       S109   31.8      S109  Ang Mo Kio Avenue 5   \n",
      "1       S117   31.4      S117          Banyan Road   \n",
      "2        S50   32.4       S50        Clementi Road   \n",
      "3       S107   29.8      S107   East Coast Parkway   \n",
      "4        S43   31.1       S43       Kim Chuan Road   \n",
      "\n",
      "                                      location  \n",
      "0  {'latitude': 1.3764, 'longitude': 103.8492}  \n",
      "1    {'latitude': 1.256, 'longitude': 103.679}  \n",
      "2  {'latitude': 1.3337, 'longitude': 103.7768}  \n",
      "3  {'latitude': 1.3135, 'longitude': 103.9625}  \n",
      "4  {'latitude': 1.3399, 'longitude': 103.8878}  \n",
      "<class 'pandas.core.frame.DataFrame'>\n",
      "RangeIndex: 13 entries, 0 to 12\n",
      "Data columns (total 5 columns):\n",
      " #   Column      Non-Null Count  Dtype  \n",
      "---  ------      --------------  -----  \n",
      " 0   station_id  13 non-null     object \n",
      " 1   value       13 non-null     float64\n",
      " 2   device_id   13 non-null     object \n",
      " 3   name        13 non-null     object \n",
      " 4   location    13 non-null     object \n",
      "dtypes: float64(1), object(4)\n",
      "memory usage: 652.0+ bytes\n",
      "None\n"
     ]
    }
   ],
   "source": [
    "# Step 1: Define the API endpoint\n",
    "url = \"https://api.data.gov.sg/v1/environment/air-temperature\"\n",
    "\n",
    "# Optional: Add query parameters for specific data (e.g., date_time or date)\n",
    "params = {\n",
    "    \"date_time\": \"2023-11-01T12:00:00\"  # YYYY-MM-DD format, Replace with the desired date-time\n",
    "}\n",
    "\n",
    "# Step 2: Send a GET request to the API\n",
    "response = requests.get(url, params=params)\n",
    "\n",
    "# Step 3: Check if the request was successful\n",
    "if response.status_code == 200:\n",
    "    json_data = response.json()\n",
    "    \n",
    "    # Step 4: Parse the JSON to extract temperature readings\n",
    "    # Flatten the \"readings\" and \"metadata\" sections\n",
    "    items = json_data[\"items\"]\n",
    "    readings = [reading for item in items for reading in item[\"readings\"]]\n",
    "    df = pd.DataFrame(readings)\n",
    "\n",
    "    # Add metadata, like station information\n",
    "    stations = pd.DataFrame(json_data[\"metadata\"][\"stations\"])\n",
    "    df = df.merge(stations, left_on=\"station_id\", right_on=\"id\", how=\"left\")\n",
    "    df.drop(columns=[\"id\"], inplace=True)\n",
    "\n",
    "    # Preview the DataFrame\n",
    "    print(df.head())\n",
    "    print(df.info())\n",
    "    df.to_csv('airtempacrosssg.csv', index=True)  # can comment this out if not saving to csv at the moment\n",
    "else:\n",
    "    print(f\"Failed to fetch data. Status code: {response.status_code}\")\n"
   ]
  },
  {
   "cell_type": "code",
   "execution_count": null,
   "id": "80d1e541-5c67-43bf-86c2-c238189672a6",
   "metadata": {},
   "outputs": [],
   "source": []
  }
 ],
 "metadata": {
  "kernelspec": {
   "display_name": "Python 3 (ipykernel)",
   "language": "python",
   "name": "python3"
  },
  "language_info": {
   "codemirror_mode": {
    "name": "ipython",
    "version": 3
   },
   "file_extension": ".py",
   "mimetype": "text/x-python",
   "name": "python",
   "nbconvert_exporter": "python",
   "pygments_lexer": "ipython3",
   "version": "3.12.4"
  }
 },
 "nbformat": 4,
 "nbformat_minor": 5
}
