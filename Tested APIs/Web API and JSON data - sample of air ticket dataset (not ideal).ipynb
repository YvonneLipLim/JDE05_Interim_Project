{
 "cells": [
  {
   "cell_type": "markdown",
   "metadata": {
    "id": "iB1cyMZaoLMG"
   },
   "source": [
    "# Web API → Pandas (testing & reference only, not an ideal dataset)"
   ]
  },
  {
   "cell_type": "markdown",
   "metadata": {
    "id": "30_i3EvOuUC4"
   },
   "source": [
    "**Source**:   \n",
    "travelpayouts affiliate network   \n",
    "https://travelpayouts.github.io/slate/?python#cheapest-tickets-grouped-by-month  \n",
    "\n",
    "\n",
    "**Aggregation**:   \n",
    "Cheapest tickets grouped by month    \n",
    "\n",
    "**Description**:   \n",
    "Returns the cheapest non-stop tickets, as well as tickets with 1 or 2 stops, for the selected route grouped by month.  \n",
    "  \n",
    "**Limitation of the data**:   \n",
    "- It does not keep the history and only returns the future flight from now onwards  \n",
    "- Very limited amount of data"
   ]
  },
  {
   "cell_type": "markdown",
   "metadata": {
    "id": "9PA56D_no160"
   },
   "source": [
    "# **Step 0 - Import and Install Libraries**"
   ]
  },
  {
   "cell_type": "code",
   "execution_count": 289,
   "metadata": {
    "scrolled": true
   },
   "outputs": [
    {
     "name": "stdout",
     "output_type": "stream",
     "text": [
      "Defaulting to user installation because normal site-packages is not writeable\n",
      "Requirement already satisfied: certifi in c:\\programdata\\anaconda3\\lib\\site-packages (2024.8.30)\n"
     ]
    }
   ],
   "source": [
    "#do this if needed.\n",
    "!pip install certifi"
   ]
  },
  {
   "cell_type": "code",
   "execution_count": 290,
   "metadata": {
    "id": "vWaIXmSlTTqr"
   },
   "outputs": [],
   "source": [
    "# urllib3 is a powerful, user-friendly HTTP client for Python\n",
    "# to handle  data retrieval\n",
    "import urllib3\n",
    "from urllib3 import request\n",
    "\n",
    "# to handle certificate verification\n",
    "import certifi\n",
    "\n",
    "# to manage json data\n",
    "import json\n",
    "import requests\n",
    "\n",
    "# for pandas dataframes\n",
    "import pandas as pd"
   ]
  },
  {
   "cell_type": "markdown",
   "metadata": {
    "id": "ZO9FAAdR5cwJ"
   },
   "source": [
    "# **Step 1 - Set Up Handler for Certificates and SSL Warnings**"
   ]
  },
  {
   "cell_type": "code",
   "execution_count": 291,
   "metadata": {
    "id": "xWDlZNX-RurY"
   },
   "outputs": [],
   "source": [
    "# handle certificate verification and SSL warnings:\n",
    "# reference https://urllib3.readthedocs.io/en/latest/user-guide.html#ssl\n",
    "\n",
    "http = urllib3.PoolManager(\n",
    "    cert_reqs='CERT_REQUIRED',\n",
    "    ca_certs=certifi.where())\n",
    "\n",
    "# Creating a PoolManager instance for sending requests with outout any verification or warning handlings\n",
    "#http = urllib3.PoolManager()"
   ]
  },
  {
   "cell_type": "code",
   "execution_count": 292,
   "metadata": {},
   "outputs": [
    {
     "data": {
      "text/plain": [
       "urllib3.poolmanager.PoolManager"
      ]
     },
     "execution_count": 292,
     "metadata": {},
     "output_type": "execute_result"
    }
   ],
   "source": [
    "type(http)"
   ]
  },
  {
   "cell_type": "markdown",
   "metadata": {
    "id": "jqhzfuvRpJ1F"
   },
   "source": [
    "# **Step 2 - Get Data from Web API with Requests**"
   ]
  },
  {
   "cell_type": "code",
   "execution_count": 297,
   "metadata": {
    "colab": {
     "base_uri": "https://localhost:8080/"
    },
    "id": "wGkMg5j6Ruwg",
    "outputId": "946c723f-b661-47ba-f8d3-6fac06f6e5c1"
   },
   "outputs": [],
   "source": [
    "#url = 'https://booking-com.p.rapidapi.com/v1/car-rental/important-info?pick_up_datetime=2024-11-18%2013%3A00%3A00&driver_age=30&drop_off_datetime=2024-11-19%2013%3A00%3A00&from_country=it&locale=en-gb&pick_up_location_id=4123205&drop_off_location_id=4123205&vehicle_id=663317713'\n",
    "\n",
    "# get data from the API; replace url with target source\n",
    "url = \"http://api.travelpayouts.com/v1/prices/monthly\"\n",
    "\n",
    "# Query: City of Origin = Singapore, Currency = SGD\n",
    "querystring = {\"origin\":\"SIN\",\"currency\":\"SGD\"}\n",
    "\n",
    "# Set up header dictionary w/ API key according to documentation\n",
    "headers = {'x-access-token': '321d6a221f8926b5ec41ae89a3b2ae7b'}\n",
    "\n",
    "# Call the API\n",
    "response = requests.get(url, headers=headers, params=querystring)"
   ]
  },
  {
   "cell_type": "markdown",
   "metadata": {
    "id": "QnSEg68T8GKC"
   },
   "source": [
    "# **Step 3 - Read from JSON and print it out"
   ]
  },
  {
   "cell_type": "code",
   "execution_count": 299,
   "metadata": {
    "scrolled": true
   },
   "outputs": [
    {
     "data": {
      "text/plain": [
       "{'data': {'2024-11': {'origin': 'SIN',\n",
       "   'destination': 'KUL',\n",
       "   'airline': 'OD',\n",
       "   'departure_at': '2024-11-25T10:30:00+08:00',\n",
       "   'return_at': '2024-11-27T08:30:00+08:00',\n",
       "   'expires_at': '2024-11-18T14:18:54Z',\n",
       "   'price': 41,\n",
       "   'flight_number': 802,\n",
       "   'transfers': 0},\n",
       "  '2024-12': {'origin': 'SIN',\n",
       "   'destination': 'KUL',\n",
       "   'airline': 'OD',\n",
       "   'departure_at': '2024-12-19T10:30:00+08:00',\n",
       "   'return_at': '2025-01-01T08:30:00+08:00',\n",
       "   'expires_at': '2024-11-18T14:18:54Z',\n",
       "   'price': 49,\n",
       "   'flight_number': 802,\n",
       "   'transfers': 0},\n",
       "  '2025-01': {'origin': 'SIN',\n",
       "   'destination': 'KUL',\n",
       "   'airline': 'OD',\n",
       "   'departure_at': '2025-01-21T10:30:00+08:00',\n",
       "   'return_at': '2025-01-24T08:30:00+08:00',\n",
       "   'expires_at': '2024-11-18T14:18:54Z',\n",
       "   'price': 61,\n",
       "   'flight_number': 802,\n",
       "   'transfers': 0},\n",
       "  '2025-02': {'origin': 'SIN',\n",
       "   'destination': 'KUL',\n",
       "   'airline': 'AK',\n",
       "   'departure_at': '2025-02-28T08:55:00+08:00',\n",
       "   'return_at': '2025-03-01T06:00:00+08:00',\n",
       "   'expires_at': '2024-11-18T14:18:54Z',\n",
       "   'price': 96,\n",
       "   'flight_number': 702,\n",
       "   'transfers': 0},\n",
       "  '2025-03': {'origin': 'SIN',\n",
       "   'destination': 'DPS',\n",
       "   'airline': 'ID',\n",
       "   'departure_at': '2025-03-26T16:10:00+08:00',\n",
       "   'return_at': '2025-03-31T13:55:00+08:00',\n",
       "   'expires_at': '2024-11-18T14:18:54Z',\n",
       "   'price': 41,\n",
       "   'flight_number': 7134,\n",
       "   'transfers': 0},\n",
       "  '2025-04': {'origin': 'SIN',\n",
       "   'destination': 'KUL',\n",
       "   'airline': 'AK',\n",
       "   'departure_at': '2025-04-07T21:20:00+08:00',\n",
       "   'return_at': '2025-04-11T06:05:00+08:00',\n",
       "   'expires_at': '2024-11-18T14:18:54Z',\n",
       "   'price': 97,\n",
       "   'flight_number': 720,\n",
       "   'transfers': 0},\n",
       "  '2025-05': {'origin': 'SIN',\n",
       "   'destination': 'DPS',\n",
       "   'airline': 'QZ',\n",
       "   'departure_at': '2025-05-19T17:20:00+08:00',\n",
       "   'return_at': '2025-05-22T07:10:00+08:00',\n",
       "   'expires_at': '2024-11-18T14:18:54Z',\n",
       "   'price': 180,\n",
       "   'flight_number': 507,\n",
       "   'transfers': 0},\n",
       "  '2025-06': {'origin': 'SIN',\n",
       "   'destination': 'JKT',\n",
       "   'airline': '8B',\n",
       "   'departure_at': '2025-06-27T11:45:00+08:00',\n",
       "   'return_at': '2025-07-12T21:50:00+07:00',\n",
       "   'expires_at': '2024-11-18T14:18:54Z',\n",
       "   'price': 183,\n",
       "   'flight_number': 152,\n",
       "   'transfers': 0},\n",
       "  '2025-07': {'origin': 'SIN',\n",
       "   'destination': 'JKT',\n",
       "   'airline': 'QZ',\n",
       "   'departure_at': '2025-07-23T12:00:00+08:00',\n",
       "   'return_at': '2025-08-13T16:10:00+07:00',\n",
       "   'expires_at': '2024-11-18T14:18:54Z',\n",
       "   'price': 138,\n",
       "   'flight_number': 267,\n",
       "   'transfers': 0},\n",
       "  '2025-08': {'origin': 'SIN',\n",
       "   'destination': 'KUL',\n",
       "   'airline': 'TR',\n",
       "   'departure_at': '2025-08-02T17:00:00+08:00',\n",
       "   'return_at': '2025-08-06T19:15:00+08:00',\n",
       "   'expires_at': '2024-11-18T14:18:54Z',\n",
       "   'price': 126,\n",
       "   'flight_number': 468,\n",
       "   'transfers': 0},\n",
       "  '2025-09': {'origin': 'SIN',\n",
       "   'destination': 'HKT',\n",
       "   'airline': '3K',\n",
       "   'departure_at': '2025-09-22T17:00:00+08:00',\n",
       "   'return_at': '2025-09-29T18:40:00+07:00',\n",
       "   'expires_at': '2024-11-18T14:18:54Z',\n",
       "   'price': 141,\n",
       "   'flight_number': 535,\n",
       "   'transfers': 0},\n",
       "  '2025-10': {'origin': 'SIN',\n",
       "   'destination': 'MNL',\n",
       "   'airline': '5J',\n",
       "   'departure_at': '2025-10-13T01:10:00+08:00',\n",
       "   'return_at': '2025-10-14T20:15:00+08:00',\n",
       "   'expires_at': '2024-11-18T14:18:54Z',\n",
       "   'price': 196,\n",
       "   'flight_number': 804,\n",
       "   'transfers': 0}},\n",
       " 'currency': 'SGD',\n",
       " 'success': True}"
      ]
     },
     "execution_count": 299,
     "metadata": {},
     "output_type": "execute_result"
    }
   ],
   "source": [
    "data = response.json()\n",
    "data"
   ]
  },
  {
   "cell_type": "markdown",
   "metadata": {
    "id": "Q8Gjcy3Q8Mde"
   },
   "source": [
    "# **Step 4 - load data into DataFrame Object**"
   ]
  },
  {
   "cell_type": "code",
   "execution_count": 305,
   "metadata": {
    "colab": {
     "base_uri": "https://localhost:8080/",
     "height": 742
    },
    "id": "HTaXeBl9WLxV",
    "outputId": "49fa1606-df23-4fe8-d2a8-5bc48397723f"
   },
   "outputs": [
    {
     "data": {
      "text/html": [
       "<div>\n",
       "<style scoped>\n",
       "    .dataframe tbody tr th:only-of-type {\n",
       "        vertical-align: middle;\n",
       "    }\n",
       "\n",
       "    .dataframe tbody tr th {\n",
       "        vertical-align: top;\n",
       "    }\n",
       "\n",
       "    .dataframe thead th {\n",
       "        text-align: right;\n",
       "    }\n",
       "</style>\n",
       "<table border=\"1\" class=\"dataframe\">\n",
       "  <thead>\n",
       "    <tr style=\"text-align: right;\">\n",
       "      <th></th>\n",
       "      <th>origin</th>\n",
       "      <th>destination</th>\n",
       "      <th>airline</th>\n",
       "      <th>departure_at</th>\n",
       "      <th>return_at</th>\n",
       "      <th>expires_at</th>\n",
       "      <th>price</th>\n",
       "      <th>flight_number</th>\n",
       "      <th>transfers</th>\n",
       "    </tr>\n",
       "  </thead>\n",
       "  <tbody>\n",
       "    <tr>\n",
       "      <th>2024-11</th>\n",
       "      <td>SIN</td>\n",
       "      <td>KUL</td>\n",
       "      <td>OD</td>\n",
       "      <td>2024-11-25T10:30:00+08:00</td>\n",
       "      <td>2024-11-27T08:30:00+08:00</td>\n",
       "      <td>2024-11-18T14:18:54Z</td>\n",
       "      <td>41</td>\n",
       "      <td>802</td>\n",
       "      <td>0</td>\n",
       "    </tr>\n",
       "    <tr>\n",
       "      <th>2024-12</th>\n",
       "      <td>SIN</td>\n",
       "      <td>KUL</td>\n",
       "      <td>OD</td>\n",
       "      <td>2024-12-19T10:30:00+08:00</td>\n",
       "      <td>2025-01-01T08:30:00+08:00</td>\n",
       "      <td>2024-11-18T14:18:54Z</td>\n",
       "      <td>49</td>\n",
       "      <td>802</td>\n",
       "      <td>0</td>\n",
       "    </tr>\n",
       "    <tr>\n",
       "      <th>2025-01</th>\n",
       "      <td>SIN</td>\n",
       "      <td>KUL</td>\n",
       "      <td>OD</td>\n",
       "      <td>2025-01-21T10:30:00+08:00</td>\n",
       "      <td>2025-01-24T08:30:00+08:00</td>\n",
       "      <td>2024-11-18T14:18:54Z</td>\n",
       "      <td>61</td>\n",
       "      <td>802</td>\n",
       "      <td>0</td>\n",
       "    </tr>\n",
       "    <tr>\n",
       "      <th>2025-02</th>\n",
       "      <td>SIN</td>\n",
       "      <td>KUL</td>\n",
       "      <td>AK</td>\n",
       "      <td>2025-02-28T08:55:00+08:00</td>\n",
       "      <td>2025-03-01T06:00:00+08:00</td>\n",
       "      <td>2024-11-18T14:18:54Z</td>\n",
       "      <td>96</td>\n",
       "      <td>702</td>\n",
       "      <td>0</td>\n",
       "    </tr>\n",
       "    <tr>\n",
       "      <th>2025-03</th>\n",
       "      <td>SIN</td>\n",
       "      <td>DPS</td>\n",
       "      <td>ID</td>\n",
       "      <td>2025-03-26T16:10:00+08:00</td>\n",
       "      <td>2025-03-31T13:55:00+08:00</td>\n",
       "      <td>2024-11-18T14:18:54Z</td>\n",
       "      <td>41</td>\n",
       "      <td>7134</td>\n",
       "      <td>0</td>\n",
       "    </tr>\n",
       "    <tr>\n",
       "      <th>2025-04</th>\n",
       "      <td>SIN</td>\n",
       "      <td>KUL</td>\n",
       "      <td>AK</td>\n",
       "      <td>2025-04-07T21:20:00+08:00</td>\n",
       "      <td>2025-04-11T06:05:00+08:00</td>\n",
       "      <td>2024-11-18T14:18:54Z</td>\n",
       "      <td>97</td>\n",
       "      <td>720</td>\n",
       "      <td>0</td>\n",
       "    </tr>\n",
       "    <tr>\n",
       "      <th>2025-05</th>\n",
       "      <td>SIN</td>\n",
       "      <td>DPS</td>\n",
       "      <td>QZ</td>\n",
       "      <td>2025-05-19T17:20:00+08:00</td>\n",
       "      <td>2025-05-22T07:10:00+08:00</td>\n",
       "      <td>2024-11-18T14:18:54Z</td>\n",
       "      <td>180</td>\n",
       "      <td>507</td>\n",
       "      <td>0</td>\n",
       "    </tr>\n",
       "    <tr>\n",
       "      <th>2025-06</th>\n",
       "      <td>SIN</td>\n",
       "      <td>JKT</td>\n",
       "      <td>8B</td>\n",
       "      <td>2025-06-27T11:45:00+08:00</td>\n",
       "      <td>2025-07-12T21:50:00+07:00</td>\n",
       "      <td>2024-11-18T14:18:54Z</td>\n",
       "      <td>183</td>\n",
       "      <td>152</td>\n",
       "      <td>0</td>\n",
       "    </tr>\n",
       "    <tr>\n",
       "      <th>2025-07</th>\n",
       "      <td>SIN</td>\n",
       "      <td>JKT</td>\n",
       "      <td>QZ</td>\n",
       "      <td>2025-07-23T12:00:00+08:00</td>\n",
       "      <td>2025-08-13T16:10:00+07:00</td>\n",
       "      <td>2024-11-18T14:18:54Z</td>\n",
       "      <td>138</td>\n",
       "      <td>267</td>\n",
       "      <td>0</td>\n",
       "    </tr>\n",
       "    <tr>\n",
       "      <th>2025-08</th>\n",
       "      <td>SIN</td>\n",
       "      <td>KUL</td>\n",
       "      <td>TR</td>\n",
       "      <td>2025-08-02T17:00:00+08:00</td>\n",
       "      <td>2025-08-06T19:15:00+08:00</td>\n",
       "      <td>2024-11-18T14:18:54Z</td>\n",
       "      <td>126</td>\n",
       "      <td>468</td>\n",
       "      <td>0</td>\n",
       "    </tr>\n",
       "    <tr>\n",
       "      <th>2025-09</th>\n",
       "      <td>SIN</td>\n",
       "      <td>HKT</td>\n",
       "      <td>3K</td>\n",
       "      <td>2025-09-22T17:00:00+08:00</td>\n",
       "      <td>2025-09-29T18:40:00+07:00</td>\n",
       "      <td>2024-11-18T14:18:54Z</td>\n",
       "      <td>141</td>\n",
       "      <td>535</td>\n",
       "      <td>0</td>\n",
       "    </tr>\n",
       "    <tr>\n",
       "      <th>2025-10</th>\n",
       "      <td>SIN</td>\n",
       "      <td>MNL</td>\n",
       "      <td>5J</td>\n",
       "      <td>2025-10-13T01:10:00+08:00</td>\n",
       "      <td>2025-10-14T20:15:00+08:00</td>\n",
       "      <td>2024-11-18T14:18:54Z</td>\n",
       "      <td>196</td>\n",
       "      <td>804</td>\n",
       "      <td>0</td>\n",
       "    </tr>\n",
       "  </tbody>\n",
       "</table>\n",
       "</div>"
      ],
      "text/plain": [
       "        origin destination airline               departure_at  \\\n",
       "2024-11    SIN         KUL      OD  2024-11-25T10:30:00+08:00   \n",
       "2024-12    SIN         KUL      OD  2024-12-19T10:30:00+08:00   \n",
       "2025-01    SIN         KUL      OD  2025-01-21T10:30:00+08:00   \n",
       "2025-02    SIN         KUL      AK  2025-02-28T08:55:00+08:00   \n",
       "2025-03    SIN         DPS      ID  2025-03-26T16:10:00+08:00   \n",
       "2025-04    SIN         KUL      AK  2025-04-07T21:20:00+08:00   \n",
       "2025-05    SIN         DPS      QZ  2025-05-19T17:20:00+08:00   \n",
       "2025-06    SIN         JKT      8B  2025-06-27T11:45:00+08:00   \n",
       "2025-07    SIN         JKT      QZ  2025-07-23T12:00:00+08:00   \n",
       "2025-08    SIN         KUL      TR  2025-08-02T17:00:00+08:00   \n",
       "2025-09    SIN         HKT      3K  2025-09-22T17:00:00+08:00   \n",
       "2025-10    SIN         MNL      5J  2025-10-13T01:10:00+08:00   \n",
       "\n",
       "                         return_at            expires_at price flight_number  \\\n",
       "2024-11  2024-11-27T08:30:00+08:00  2024-11-18T14:18:54Z    41           802   \n",
       "2024-12  2025-01-01T08:30:00+08:00  2024-11-18T14:18:54Z    49           802   \n",
       "2025-01  2025-01-24T08:30:00+08:00  2024-11-18T14:18:54Z    61           802   \n",
       "2025-02  2025-03-01T06:00:00+08:00  2024-11-18T14:18:54Z    96           702   \n",
       "2025-03  2025-03-31T13:55:00+08:00  2024-11-18T14:18:54Z    41          7134   \n",
       "2025-04  2025-04-11T06:05:00+08:00  2024-11-18T14:18:54Z    97           720   \n",
       "2025-05  2025-05-22T07:10:00+08:00  2024-11-18T14:18:54Z   180           507   \n",
       "2025-06  2025-07-12T21:50:00+07:00  2024-11-18T14:18:54Z   183           152   \n",
       "2025-07  2025-08-13T16:10:00+07:00  2024-11-18T14:18:54Z   138           267   \n",
       "2025-08  2025-08-06T19:15:00+08:00  2024-11-18T14:18:54Z   126           468   \n",
       "2025-09  2025-09-29T18:40:00+07:00  2024-11-18T14:18:54Z   141           535   \n",
       "2025-10  2025-10-14T20:15:00+08:00  2024-11-18T14:18:54Z   196           804   \n",
       "\n",
       "        transfers  \n",
       "2024-11         0  \n",
       "2024-12         0  \n",
       "2025-01         0  \n",
       "2025-02         0  \n",
       "2025-03         0  \n",
       "2025-04         0  \n",
       "2025-05         0  \n",
       "2025-06         0  \n",
       "2025-07         0  \n",
       "2025-08         0  \n",
       "2025-09         0  \n",
       "2025-10         0  "
      ]
     },
     "metadata": {},
     "output_type": "display_data"
    }
   ],
   "source": [
    "df = pd.DataFrame(data['data'])\n",
    "\n",
    "# Transpose it\n",
    "df = df.T\n",
    "\n",
    "# print the dataframe\n",
    "display(df)\n"
   ]
  }
 ],
 "metadata": {
  "colab": {
   "provenance": []
  },
  "kernelspec": {
   "display_name": "Python 3 (ipykernel)",
   "language": "python",
   "name": "python3"
  },
  "language_info": {
   "codemirror_mode": {
    "name": "ipython",
    "version": 3
   },
   "file_extension": ".py",
   "mimetype": "text/x-python",
   "name": "python",
   "nbconvert_exporter": "python",
   "pygments_lexer": "ipython3",
   "version": "3.12.4"
  }
 },
 "nbformat": 4,
 "nbformat_minor": 4
}
