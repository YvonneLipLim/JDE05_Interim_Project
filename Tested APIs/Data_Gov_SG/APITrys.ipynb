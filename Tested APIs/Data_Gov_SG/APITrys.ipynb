{
 "cells": [
  {
   "cell_type": "code",
   "execution_count": 97,
   "id": "b1927d8e-afaf-4281-9d7a-464423009843",
   "metadata": {},
   "outputs": [],
   "source": [
    "import requests\n",
    "import pandas as pd\n",
    "import datetime\n",
    "\n",
    "#API location\n",
    "url = \"https://api.data.gov.sg/v1/environment/air-temperature\"\n",
    "\n",
    "#Date where to start/end\n",
    "date_range = pd.date_range(start='2023-11-01', end='2023-11-02')\n",
    "\n",
    "#Empty list for storing readings\n",
    "data_list = []\n",
    "\n",
    "#Loop through Start/end dates\n",
    "for day in date_range:\n",
    "    input_date = day.date().strftime('%Y-%m-%d')\n",
    "    params = {\"date\": input_date}\n",
    "    response = requests.get(url, params=params)\n",
    "    data = response.json()\n",
    "    items = data['items']\n",
    "\n",
    "\n",
    "    #Loop through and get timestamp\n",
    "    for item in items:\n",
    "        timestamp_ = item['timestamp']\n",
    "        readings = item['readings']\n",
    "\n",
    "        #Loop through and get all readings at all stations\n",
    "        for reading in readings:\n",
    "            station_id_ = reading['station_id']\n",
    "            value_ = reading['value']\n",
    "            data_list.append([timestamp_, station_id_, value_])\n",
    "\n",
    "#Convert data_list containing all readings into dataframe\n",
    "values_df = pd.DataFrame(data_list, columns=['timestamp', 'station_id', 'temperature'])\n",
    "\n",
    "#Get info of all stations\n",
    "stations_df = pd.json_normalize(data['metadata']['stations'])\n",
    "\n",
    "#Write out to csv for tables\n",
    "stations_df.to_csv('stn.csv')\n",
    "values_df.to_csv('abcX.csv')"
   ]
  }
 ],
 "metadata": {
  "kernelspec": {
   "display_name": "Python 3 (ipykernel)",
   "language": "python",
   "name": "python3"
  },
  "language_info": {
   "codemirror_mode": {
    "name": "ipython",
    "version": 3
   },
   "file_extension": ".py",
   "mimetype": "text/x-python",
   "name": "python",
   "nbconvert_exporter": "python",
   "pygments_lexer": "ipython3",
   "version": "3.12.4"
  }
 },
 "nbformat": 4,
 "nbformat_minor": 5
}
