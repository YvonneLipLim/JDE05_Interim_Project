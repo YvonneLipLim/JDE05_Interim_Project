{
 "cells": [
  {
   "cell_type": "markdown",
   "metadata": {},
   "source": [
    "# **Pokemon API**\n",
    "To get the favorite pokemon data programmatically by using the API, retrieving from JSON format. \n",
    "This API will let users fetch Pokemon data like its color, ability, name, Form, Gender, and much more.\n",
    "Thereafer we can load into a CSV format and store in an output file that will concatenate data and time such as Pokemon_Dataset_2024-11-18_18-00-00 (YYYY-MM-DD_HH:MM:SS).csv"
   ]
  },
  {
   "cell_type": "markdown",
   "metadata": {},
   "source": [
    "# **Prerequisites**\n",
    "Install the Python libraries on your local machine:\n",
    "1. requests for making API calls\n",
    "2. pandas for handling and manipulating data\n",
    "3. pytz for handling timezones\n",
    "4. csv library for writing data to CSV files\n",
    "\n",
    "Skip these steps if you have installed all the libraries."
   ]
  },
  {
   "cell_type": "code",
   "execution_count": null,
   "metadata": {},
   "outputs": [],
   "source": [
    "# Open a new terminal and run the following command:\n",
    "pip install requests \n",
    "pip install pandas\n",
    "pip install pytz"
   ]
  },
  {
   "cell_type": "markdown",
   "metadata": {},
   "source": [
    "# **Fetching Pokemon data from API**\n",
    "Set the key-value pair limit to 10 when fetching the Pokemon data first.\n",
    "Once receive the JSON response, populate the full list by setting the limit to 150."
   ]
  },
  {
   "cell_type": "code",
   "execution_count": 1,
   "metadata": {},
   "outputs": [
    {
     "name": "stdout",
     "output_type": "stream",
     "text": [
      "\n",
      "Pokémon Data Table:\n",
      "           Name   ID  Height  Weight  Base Experience           Types\n",
      "0     bulbasaur    1       7      69               64   grass, poison\n",
      "1       ivysaur    2      10     130              142   grass, poison\n",
      "2      venusaur    3      20    1000              263   grass, poison\n",
      "3    charmander    4       6      85               62            fire\n",
      "4    charmeleon    5      11     190              142            fire\n",
      "..          ...  ...     ...     ...              ...             ...\n",
      "145     moltres  146      20     600              290    fire, flying\n",
      "146     dratini  147      18      33               60          dragon\n",
      "147   dragonair  148      40     165              147          dragon\n",
      "148   dragonite  149      22    2100              300  dragon, flying\n",
      "149      mewtwo  150      20    1220              340         psychic\n",
      "\n",
      "[150 rows x 6 columns]\n"
     ]
    }
   ],
   "source": [
    "import requests # Make HTTP requests\n",
    "import pandas as pd # Data manipulation\n",
    "from datetime import datetime # To allow script to work with date time data\n",
    "import pytz  # To handle timezones\n",
    "import os  # To handle file paths\n",
    "import csv # To write CSV files\n",
    "\n",
    "# Step 1: Define the API URL and parameters\n",
    "api_url = \"https://pokeapi.co/api/v2/pokemon/\"\n",
    "params = {\"limit\": 150}  # Set limit as an integer\n",
    "headers = {}\n",
    "\n",
    "# Step 2: Make a GET request to fetch data\n",
    "response = requests.get(api_url, headers=headers, params=params)\n",
    "\n",
    "# Step 3: Parse the JSON response\n",
    "data = response.json()\n",
    "\n",
    "# Step 4: Initialize a list to hold Pokémon data for the DataFrame\n",
    "pokemon_list = data[\"results\"]  # Contains the basic Pokémon data\n",
    "pokemon_records = []  # This will store each Pokémon's detailed data\n",
    "\n",
    "# Step 5: Fetch detailed information for each Pokémon\n",
    "for pokemon in pokemon_list:\n",
    "    pokemon_details_response = requests.get(pokemon['url'])\n",
    "    \n",
    "    if pokemon_details_response.status_code != 200:\n",
    "        continue  # Skip this Pokémon if there's an issue with the request\n",
    "    \n",
    "    pokemon_details = pokemon_details_response.json()\n",
    "    \n",
    "    # Collect the desired attributes and append to pokemon_records\n",
    "    pokemon_records.append({\n",
    "        \"Name\": pokemon['name'],\n",
    "        \"ID\": pokemon_details['id'],\n",
    "        \"Height\": pokemon_details['height'],\n",
    "        \"Weight\": pokemon_details['weight'],\n",
    "        \"Base Experience\": pokemon_details['base_experience'],\n",
    "        \"Types\": \", \".join([t['type']['name'] for t in pokemon_details['types']])\n",
    "    })\n",
    "\n",
    "# Step 6: Create a DataFrame from the collected Pokémon data\n",
    "df = pd.DataFrame(pokemon_records)\n",
    "\n",
    "# Print the DataFrame\n",
    "print(\"\\nPokémon Data Table:\")\n",
    "print(df)"
   ]
  },
  {
   "cell_type": "markdown",
   "metadata": {},
   "source": [
    "# **Parse the data into CSV**\n",
    "With the Pokemon data table, we can export it to CSV file and include the current data and time in the filename to keep our files unique and organized."
   ]
  },
  {
   "cell_type": "code",
   "execution_count": 3,
   "metadata": {},
   "outputs": [
    {
     "name": "stdout",
     "output_type": "stream",
     "text": [
      "Pokemon data has been successfully exported to /Users/yvonne/Downloads/pokemon_data_2024-11-19_01-13-22.csv\n"
     ]
    }
   ],
   "source": [
    "from datetime import datetime\n",
    "import csv\n",
    "import os\n",
    "\n",
    "# Specify the output directory\n",
    "output_dir = '/Users/yvonne/Downloads'\n",
    "if not os.path.exists(output_dir):\n",
    "    os.makedirs(output_dir)\n",
    "\n",
    "# Get the current date and time in Singapore timezone\n",
    "sgt_tz = pytz.timezone('Asia/Singapore')  # Set Singapore timezone\n",
    "current_time = datetime.now(sgt_tz).strftime(\"%Y-%m-%d_%H-%M-%S\")  # Get time in SGT\n",
    "\n",
    "# Specify the CSV file to write the data to\n",
    "csv_file = os.path.join(output_dir, f'pokemon_data_{current_time}.csv')\n",
    "\n",
    "# Specify the header for the CSV file\n",
    "fieldnames = [\"Name\", \"ID\", \"Height\", \"Weight\", \"Base Experience\", \"Types\"]\n",
    "\n",
    "# Write data to CSV\n",
    "with open(csv_file, mode='w', newline='') as file:\n",
    "    writer = csv.DictWriter(file, fieldnames=fieldnames)\n",
    "\n",
    "    # Write the header\n",
    "    writer.writeheader()\n",
    "\n",
    "    # Write the Pokémon data\n",
    "    for pokemon in pokemon_records:\n",
    "        writer.writerow(pokemon)\n",
    "\n",
    "print(f\"Pokemon data has been successfully exported to {csv_file}\")"
   ]
  }
 ],
 "metadata": {
  "kernelspec": {
   "display_name": "myenv",
   "language": "python",
   "name": "python3"
  },
  "language_info": {
   "codemirror_mode": {
    "name": "ipython",
    "version": 3
   },
   "file_extension": ".py",
   "mimetype": "text/x-python",
   "name": "python",
   "nbconvert_exporter": "python",
   "pygments_lexer": "ipython3",
   "version": "3.11.10"
  }
 },
 "nbformat": 4,
 "nbformat_minor": 2
}
