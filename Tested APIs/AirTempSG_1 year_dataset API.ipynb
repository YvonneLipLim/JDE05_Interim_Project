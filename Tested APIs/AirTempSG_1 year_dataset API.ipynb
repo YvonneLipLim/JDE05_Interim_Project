{
 "cells": [
  {
   "cell_type": "code",
   "execution_count": 1,
   "metadata": {},
   "outputs": [],
   "source": [
    "import requests\n",
    "import pandas as pd\n",
    "from datetime import datetime, timedelta\n"
   ]
  },
  {
   "cell_type": "code",
   "execution_count": 3,
   "metadata": {},
   "outputs": [
    {
     "name": "stdout",
     "output_type": "stream",
     "text": [
      "  station_id  value device_id                 name  \\\n",
      "0       S109   30.1      S109  Ang Mo Kio Avenue 5   \n",
      "1        S50   29.7       S50        Clementi Road   \n",
      "2       S107   28.2      S107   East Coast Parkway   \n",
      "3        S43   29.6       S43       Kim Chuan Road   \n",
      "4        S44   29.4       S44       Nanyang Avenue   \n",
      "\n",
      "                                        location  \n",
      "0    {'latitude': 1.3764, 'longitude': 103.8492}  \n",
      "1    {'latitude': 1.3337, 'longitude': 103.7768}  \n",
      "2    {'latitude': 1.3135, 'longitude': 103.9625}  \n",
      "3    {'latitude': 1.3399, 'longitude': 103.8878}  \n",
      "4  {'latitude': 1.34583, 'longitude': 103.68166}  \n",
      "<class 'pandas.core.frame.DataFrame'>\n",
      "RangeIndex: 4959 entries, 0 to 4958\n",
      "Data columns (total 5 columns):\n",
      " #   Column      Non-Null Count  Dtype  \n",
      "---  ------      --------------  -----  \n",
      " 0   station_id  4959 non-null   object \n",
      " 1   value       4959 non-null   float64\n",
      " 2   device_id   4505 non-null   object \n",
      " 3   name        4505 non-null   object \n",
      " 4   location    4505 non-null   object \n",
      "dtypes: float64(1), object(4)\n",
      "memory usage: 193.8+ KB\n",
      "None\n"
     ]
    }
   ],
   "source": [
    "# Step 1: Define the API endpoint\n",
    "url = \"https://api.data.gov.sg/v1/environment/air-temperature\"\n",
    "\n",
    "# Step 2: Define the date range\n",
    "start_date = datetime(2023, 1, 10)\n",
    "end_date = datetime(2024, 1, 10)\n",
    "\n",
    "# Create an empty list to store DataFrames\n",
    "data_frames = []\n",
    "\n",
    "# Step 3: Loop through the date range\n",
    "current_date = start_date\n",
    "while current_date <= end_date:\n",
    "    # Format date in the correct format\n",
    "    date_time_str = current_date.strftime(\"%Y-%m-%dT12:00:00\")  # Using noon for consistency\n",
    "    params = {\n",
    "        \"date_time\": date_time_str\n",
    "    }\n",
    "\n",
    "    # Step 4: Send a GET request to the API\n",
    "    response = requests.get(url, params=params)\n",
    "\n",
    "    # Step 5: Check if the request was successful\n",
    "    if response.status_code == 200:\n",
    "        json_data = response.json()\n",
    "\n",
    "        # Step 6: Parse the JSON to extract temperature readings\n",
    "        items = json_data.get(\"items\", [])\n",
    "        for item in items:\n",
    "            readings = item.get(\"readings\", [])\n",
    "            # Add the readings to the list as a DataFrame\n",
    "            temp_df = pd.DataFrame(readings)\n",
    "            data_frames.append(temp_df)\n",
    "\n",
    "    else:\n",
    "        print(f\"Failed to fetch data for {date_time_str}. Status code: {response.status_code}\")\n",
    "\n",
    "    # Move to the next day\n",
    "    current_date += timedelta(days=1)\n",
    "\n",
    "# Step 7: Combine all DataFrames into one\n",
    "if data_frames:\n",
    "    combined_df = pd.concat(data_frames, ignore_index=True)\n",
    "\n",
    "    # Add metadata, like station information\n",
    "    stations = pd.DataFrame(json_data[\"metadata\"][\"stations\"])\n",
    "    combined_df = combined_df.merge(stations, left_on=\"station_id\", right_on=\"id\", how=\"left\")\n",
    "    combined_df.drop(columns=[\"id\"], inplace=True)\n",
    "\n",
    "    # Preview the DataFrame\n",
    "    print(combined_df.head())\n",
    "    print(combined_df.info())\n",
    "    combined_df.to_csv('/Users/yvonne/Downloads/airtempacrosssg.csv', index=False) #Save to CSV file\n",
    "else:\n",
    "    print(\"No data collected.\")"
   ]
  }
 ],
 "metadata": {
  "kernelspec": {
   "display_name": "myenv",
   "language": "python",
   "name": "python3"
  },
  "language_info": {
   "codemirror_mode": {
    "name": "ipython",
    "version": 3
   },
   "file_extension": ".py",
   "mimetype": "text/x-python",
   "name": "python",
   "nbconvert_exporter": "python",
   "pygments_lexer": "ipython3",
   "version": "3.11.10"
  }
 },
 "nbformat": 4,
 "nbformat_minor": 2
}
