{
 "cells": [
  {
   "cell_type": "markdown",
   "metadata": {},
   "source": [
    "# **Import station data from Data.gov.sg**\n",
    "This script extract station data from Air Temerature across Singapore real-time API and ingest into PostgreSQL data_gov_project database as a dimension table."
   ]
  },
  {
   "cell_type": "code",
   "execution_count": null,
   "metadata": {},
   "outputs": [],
   "source": [
    "import requests  # For sending HTTP requests\n",
    "import pandas as pd  # For data manipulation\n",
    "from sqlalchemy import create_engine  # For database operations\n",
    "\n",
    "# Define constants\n",
    "API_URL = \"https://api-open.data.gov.sg/v2/real-time/api/air-temperature\"\n",
    "DB_USER = 'postgres'  # Update with your PostgreSQL username\n",
    "DB_PASS = 'admin'      # Update with your PostgreSQL password\n",
    "DB_HOST = 'localhost'  # Update with your database host\n",
    "DB_PORT = '5432'       # Update with your database port\n",
    "DB_NAME = 'data_gov_project'  # Update with your PostgreSQL database name\n",
    "\n",
    "def get_station_metadata(json_data):\n",
    "    \"\"\"Fetch station metadata and return a DataFrame.\"\"\"\n",
    "    stations = json_data.get('data', {}).get('stations', [])\n",
    "    station_data = []\n",
    "\n",
    "    for station in stations:\n",
    "        station_data.append({\n",
    "            'station_id': station.get('id'),  # Use 'id'\n",
    "            'device_id': station.get('deviceId'),\n",
    "            'station_name': station.get('name'),\n",
    "            'latitude': station['location']['latitude'],  # Use 'location' key for latitude\n",
    "            'longitude': station['location']['longitude']   # Use 'location' key for longitude\n",
    "        })\n",
    "\n",
    "    return pd.DataFrame(station_data)\n",
    "\n",
    "def fetch_station_data(api_url):\n",
    "    \"\"\"Fetch station data from the API.\"\"\"\n",
    "    response = requests.get(api_url)\n",
    "    if response.status_code == 200:\n",
    "        json_data = response.json()\n",
    "        print(json_data)  # Print the full JSON response for inspection\n",
    "        station_df = get_station_metadata(json_data)  # Get the station metadata\n",
    "\n",
    "        return station_df\n",
    "    else:\n",
    "        print(f\"Failed to fetch data: {response.status_code}\")\n",
    "        return pd.DataFrame()  # Return an empty DataFrame on failure\n",
    "\n",
    "def load_data_to_postgres(data_frame):\n",
    "    \"\"\"Load the provided pandas DataFrame into the 'station' table in your PostgreSQL database.\"\"\"\n",
    "    engine = create_engine(f'postgresql://{DB_USER}:{DB_PASS}@{DB_HOST}:{DB_PORT}/{DB_NAME}')\n",
    "    try:\n",
    "        data_frame.to_sql('station', engine, if_exists='append', index=False)  # Append mode\n",
    "        print(f\"Successfully loaded {len(data_frame)} records to PostgreSQL table.\")\n",
    "    except Exception as e:\n",
    "        print(f\"Error loading data into PostgreSQL: {e}\")\n",
    "\n",
    "def main():\n",
    "    print(\"Starting the script...\")\n",
    "\n",
    "    # Fetch and process the data\n",
    "    station_df = fetch_station_data(API_URL)\n",
    "\n",
    "    if not station_df.empty:\n",
    "        load_data_to_postgres(station_df)  # Load the data into PostgreSQL\n",
    "    else:\n",
    "        print(\"No data collected.\")\n",
    "    \n",
    "    print(\"Script completed.\")\n",
    "\n",
    "if __name__ == \"__main__\":\n",
    "    main()"
   ]
  }
 ],
 "metadata": {
  "kernelspec": {
   "display_name": "base",
   "language": "python",
   "name": "python3"
  },
  "language_info": {
   "codemirror_mode": {
    "name": "ipython",
    "version": 3
   },
   "file_extension": ".py",
   "mimetype": "text/x-python",
   "name": "python",
   "nbconvert_exporter": "python",
   "pygments_lexer": "ipython3",
   "version": "3.12.7"
  }
 },
 "nbformat": 4,
 "nbformat_minor": 2
}
