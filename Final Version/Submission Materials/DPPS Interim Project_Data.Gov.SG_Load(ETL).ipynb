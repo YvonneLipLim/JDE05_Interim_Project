{
 "cells": [
  {
   "attachments": {},
   "cell_type": "markdown",
   "id": "cde489fc-bb7d-4abe-b9ff-a227c2c302d6",
   "metadata": {},
   "source": [
    "# **Generation SG Junior Data Engineer Programme**\n",
    "### **Interim Project presented by DPPS Team (5)**<br><span style=\"color:darkblue; font-weight:bold;\">Members: Daniel | Pin Pin, Yvonne | Pin Yeen, Erica | Shawn</span>\n",
    "\n",
    "\n",
    "<br /> <br />\n",
    "## Data Preparation | Data Loading\n",
    "___\n",
    "\n",
    "### Data Preparation\n",
    "After designing our database model, create tables at PostgreSQL to ensure data type and referential integrity.\n",
    "\n",
    "#### Create Tables"
   ]
  },
  {
   "cell_type": "markdown",
   "id": "a48e92c7-ff5f-4fa7-ae23-80a4651669da",
   "metadata": {},
   "source": [
    "```sql\n",
    "CREATE TABLE station (\n",
    "station_id VARCHAR(4) PRIMARY KEY,\n",
    "station_name VARCHAR(30) NOT NULL,\n",
    "latitude DECIMAL NOT NULL,\n",
    "longitude DECIMAL NOT NULL);\n",
    "\n",
    "CREATE TABLE locations (\n",
    "town_name VARCHAR(20) PRIMARY KEY,\n",
    "station_id VARCHAR(4) NOT NULL,\n",
    "FOREIGN KEY (station_id) REFERENCES station(station_id)\n",
    ");\n",
    "\n",
    "CREATE TABLE air_temp (\n",
    "airtemp_id INT PRIMARY KEY GENERATED ALWAYS AS IDENTITY,\n",
    "station_id VARCHAR(4) NOT NULL,\n",
    "temperature DECIMAL(3,1) NOT NULL,\n",
    "airtemp_date TIMESTAMP NOT NULL,\n",
    "FOREIGN KEY (station_id) REFERENCES station(station_id)\n",
    ");\n",
    "\n",
    "CREATE TABLE resale_flat_txn (\n",
    "resale_id INT PRIMARY KEY GENERATED ALWAYS AS IDENTITY,\n",
    "resale_date DATE NOT NULL,\n",
    "town_name VARCHAR(20) NOT NULL,\n",
    "flat_type VARCHAR(20) NOT NULL,\n",
    "block_no VARCHAR(5) NOT NULL,\n",
    "street_name VARCHAR(30) NOT NULL,\n",
    "storey_range VARCHAR(10) NOT NULL,\n",
    "floor_area_sqm FLOAT NOT NULL,\n",
    "flat_model VARCHAR(30) NOT NULL,\n",
    "lease_commence_year INTEGER NOT NULL,\n",
    "remaining_lease\tVARCHAR(20) NOT NULL,\n",
    "resale_price FLOAT NOT NULL,\n",
    "FOREIGN KEY (town_name) REFERENCES locations(town_name));\n",
    "\n",
    "CREATE TABLE humidity (\n",
    "humidity_id INT PRIMARY KEY GENERATED ALWAYS AS IDENTITY,\n",
    "station_id VARCHAR(4) NOT NULL,\n",
    "humidity_date TIMESTAMP NOT NULL,\n",
    "humidity_readings DECIMAL(3,1) NOT NULL,\n",
    "FOREIGN KEY (station_id) REFERENCES station(station_id)\n",
    ");\n",
    "```"
   ]
  },
  {
   "cell_type": "markdown",
   "id": "d5ff77f5-b964-45d2-88b0-3b2db5f4904c",
   "metadata": {},
   "source": [
    "#### Insert Data into station and locations Tables\n",
    "\n",
    "For the initial setup, we prepare the station dimension table and the locations mapping table for a one-time insertion to avoid dependency complexities during the load stage."
   ]
  },
  {
   "cell_type": "markdown",
   "id": "6e99105d-6929-45d8-8e08-80e24790c405",
   "metadata": {},
   "source": [
    "```sql\n",
    "INSERT INTO Station VALUES ('S109','Ang Mo Kio Avenue 5',1.3764,103.8492);\n",
    "INSERT INTO Station VALUES ('S117','Banyan Road',1.256,103.679);\n",
    "INSERT INTO Station VALUES ('S50','Clementi Road',1.3337,103.7768);\n",
    "INSERT INTO Station VALUES ('S107','East Coast Parkway',1.3135,103.9625);\n",
    "INSERT INTO Station VALUES ('S43','Kim Chuan Road',1.3399,103.8878);\n",
    "INSERT INTO Station VALUES ('S108','Marina Gardens Drive',1.2799,103.8703);\n",
    "INSERT INTO Station VALUES ('S44','Nanyang Avenue',1.34583,103.68166);\n",
    "INSERT INTO Station VALUES ('S121','Old Choa Chu Kang Road',1.37288,103.72244);\n",
    "INSERT INTO Station VALUES ('S111','Scotts Road',1.31055,103.8365);\n",
    "INSERT INTO Station VALUES ('S60','Sentosa',1.25,103.8279);\n",
    "INSERT INTO Station VALUES ('S24','Upper Changi Road North',1.3678,103.9826);\n",
    "INSERT INTO Station VALUES ('S116','West Coast Highway',1.281,103.754);\n",
    "INSERT INTO Station VALUES ('S104','Woodlands Avenue 9',1.44387,103.78538);\n",
    "INSERT INTO Station VALUES ('S102','Semakau Landfill',1.20525,103.77117);\n",
    "INSERT INTO Station VALUES ('S115','Tuas South Avenue 3',1.29377,103.68166);\n",
    "INSERT INTO Station VALUES ('S106','Pulau Ubin',1.412382,103.958509);\n",
    "\n",
    "INSERT INTO locations VALUES ('ANG MO KIO', 'S109');\n",
    "INSERT INTO locations VALUES ('BEDOK', 'S107');\n",
    "INSERT INTO locations VALUES ('BISHAN', 'S109');\n",
    "INSERT INTO locations VALUES ('BUKIT BATOK', 'S121');\n",
    "INSERT INTO locations VALUES ('BUKIT MERAH', 'S60');\n",
    "INSERT INTO locations VALUES ('BUKIT PANJANG', 'S121');\n",
    "INSERT INTO locations VALUES ('BUKIT TIMAH', 'S111');\n",
    "INSERT INTO locations VALUES ('CENTRAL AREA', 'S108');\n",
    "INSERT INTO locations VALUES ('CHOA CHU KANG', 'S121');\n",
    "INSERT INTO locations VALUES ('CLEMENTI', 'S50');\n",
    "INSERT INTO locations VALUES ('GEYLANG', 'S43');\n",
    "INSERT INTO locations VALUES ('HOUGANG', 'S43');\n",
    "INSERT INTO locations VALUES ('JURONG EAST', 'S117');\n",
    "INSERT INTO locations VALUES ('JURONG WEST', 'S44');\n",
    "INSERT INTO locations VALUES ('KALLANG/WHAMPOA', 'S108');\n",
    "INSERT INTO locations VALUES ('MARINE PARADE', 'S108');\n",
    "INSERT INTO locations VALUES ('PASIR RIS', 'S24');\n",
    "INSERT INTO locations VALUES ('PUNGGOL', 'S43');\n",
    "INSERT INTO locations VALUES ('QUEENSTOWN', 'S116');\n",
    "INSERT INTO locations VALUES ('SEMBAWANG', 'S104');\n",
    "INSERT INTO locations VALUES ('SENGKANG', 'S43');\n",
    "INSERT INTO locations VALUES ('SERANGOON', 'S43');\n",
    "INSERT INTO locations VALUES ('TAMPINES', 'S24');\n",
    "INSERT INTO locations VALUES ('TOA PAYOH', 'S43');\n",
    "INSERT INTO locations VALUES ('WOODLANDS', 'S104');\n",
    "INSERT INTO locations VALUES ('YISHUN', 'S104');"
   ]
  },
  {
   "cell_type": "markdown",
   "id": "ebf76a21-b0f7-4c25-bcdc-129082c97479",
   "metadata": {},
   "source": [
    "#### Data Loading\n",
    "\n",
    "Once all tables are set up, the fact table data (including air temperature, humidity, and resale flat price) can be loaded into PostgreSQL using Python, as detailed in the EXTRACT section of the documentation."
   ]
  }
 ],
 "metadata": {
  "kernelspec": {
   "display_name": "Python 3 (ipykernel)",
   "language": "python",
   "name": "python3"
  },
  "language_info": {
   "codemirror_mode": {
    "name": "ipython",
    "version": 3
   },
   "file_extension": ".py",
   "mimetype": "text/x-python",
   "name": "python",
   "nbconvert_exporter": "python",
   "pygments_lexer": "ipython3",
   "version": "3.12.4"
  }
 },
 "nbformat": 4,
 "nbformat_minor": 5
}
