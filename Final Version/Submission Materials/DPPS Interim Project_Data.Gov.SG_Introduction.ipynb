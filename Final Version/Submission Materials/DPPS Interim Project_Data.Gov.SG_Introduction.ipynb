{
 "cells": [
  {
   "attachments": {},
   "cell_type": "markdown",
   "id": "cde489fc-bb7d-4abe-b9ff-a227c2c302d6",
   "metadata": {},
   "source": [
    "# **Generation SG Junior Data Engineer Programme**\n",
    "### **Interim Project presented by DPPS Team (5)**<br><span style=\"color:darkblue; font-weight:bold;\">Members: Daniel | Pin Pin, Yvonne | Pin Yeen, Erica | Shawn</span>\n",
    "\n",
    "\n",
    "<br /> <br />\n",
    "## Analysis of Resale Flat Prices and Temperature Across Singapore  \n",
    " \n",
    "\n",
    "This project involves analysing of resale flat prices and temperature variations across different regions in Singapore. By leveraging a comprehensive dataset that includes air temperature, humidity levels, and historical HDB resale transaction prices, the aim is to identify comparatively cooling regions within Singapore. By identifying these areas, we aim to provide insights that could potentially help reduce electricity costs associated with air conditioning and cooling requirements. Additionally, by analyzing past resale prices, we aim to offer valuable information to assist in making informed property purchase decisions.\n",
    "\n",
    "The topic of property including the HDB resale market is a topic very close to the heart of many Singaporeans.  We thought it would be interesting to add another dimension into the mix for consideration during the search for the perfect one.\n",
    "\n",
    "### Problem Statement\n",
    "\n",
    "To buy a flat at the coolest area in Singapore, at the best price\n",
    "\n",
    "     \n",
    "\n",
    "**Dataset**: \n",
    "\n",
    "*   Air Temperature - Recorded temperatures across various regions\n",
    "*   Humidity Levels - Detailed humidity readings to complement the temperature data\n",
    "*   Location of Weather Measurement Equipment - Geographic coordinates of weather stations\n",
    "*   HDB Resale Transactions - Historical data on resale flat prices  \n",
    "     \n",
    "\n",
    "**Data source**\n",
    "\n",
    "We decided to obtain all relevant datasets from DATA.GOV.SG because the API calls are easy to access without cumbersome requirements or costs, the datasets are comprehensive and the information contained within is a perfect match for our local context."
   ]
  },
  {
   "cell_type": "code",
   "execution_count": null,
   "id": "129061f9-0764-43c3-87db-768212d0102d",
   "metadata": {},
   "outputs": [],
   "source": []
  }
 ],
 "metadata": {
  "kernelspec": {
   "display_name": "Python 3 (ipykernel)",
   "language": "python",
   "name": "python3"
  },
  "language_info": {
   "codemirror_mode": {
    "name": "ipython",
    "version": 3
   },
   "file_extension": ".py",
   "mimetype": "text/x-python",
   "name": "python",
   "nbconvert_exporter": "python",
   "pygments_lexer": "ipython3",
   "version": "3.12.4"
  }
 },
 "nbformat": 4,
 "nbformat_minor": 5
}
