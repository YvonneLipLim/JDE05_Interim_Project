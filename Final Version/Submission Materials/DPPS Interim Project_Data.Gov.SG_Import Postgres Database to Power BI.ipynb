{
 "cells": [
  {
   "cell_type": "markdown",
   "id": "c6ef722e-2d82-4fda-a179-e5a60ca551e4",
   "metadata": {},
   "source": [
    "# **Generation SG Junior Data Engineer Programme**\n",
    "### **Interim Project presented by DPPS Team (5)**<br><span style=\"color:darkblue; font-weight:bold;\">Members: Daniel | Pin Pin, Yvonne | Pin Yean, Erica | Shawn</span>\n",
    "\n",
    "\n",
    "### <span style=\"color:darkblue; font-weight:bold;\">Optimizing Data Analytics with PostgreSQL and Power BI Integration</span>\n",
    "<div>In the world of Data Analysis, we are combining the power of PostgreSQL as a database management system and Power BI as a visualization tool to provide an effective solution for data analysts. By integrating PostgreSQL with Power BI, giving data analysts the ability to optimize performance and gain deeper insights.</div>"
   ]
  },
  {
   "cell_type": "markdown",
   "id": "09da27b4-b8e8-4be4-9660-5f6eb87fd990",
   "metadata": {},
   "source": [
    "### **Connecting Power BI with PostgreSQL**\n",
    "1. Open Power BI Desktop\n",
    "<img src=\"https://raw.githubusercontent.com/YvonneLipLim/Images/main/Open_PBI.png\" alt=\"Alt Text\" width=\"800\">"
   ]
  },
  {
   "cell_type": "markdown",
   "id": "87145ca8",
   "metadata": {},
   "source": [
    "2. Select **\"Get Data\"** \n",
    "<img src=\"https://raw.githubusercontent.com/YvonneLipLim/Images/main/GetData_PBI.png\" alt=\"Alt Text\" width=\"800\">"
   ]
  },
  {
   "cell_type": "markdown",
   "id": "d27a8bea",
   "metadata": {},
   "source": [
    "3. Select **\"More\"**\n",
    "<img src=\"https://raw.githubusercontent.com/YvonneLipLim/Images/main/More_PBI.png\" alt=\"Alt Text\" width=\"800\">"
   ]
  },
  {
   "cell_type": "markdown",
   "id": "afc2afc0",
   "metadata": {},
   "source": [
    "4. Select **\"Database\"**, **\"PostgreSQL database\"** and click **\"Connect\"**\n",
    "<img src=\"https://raw.githubusercontent.com/YvonneLipLim/Images/main/SelectDB_PBI.png\" alt=\"Alt Text\" width=\"800\">"
   ]
  },
  {
   "cell_type": "markdown",
   "id": "3fff3f88",
   "metadata": {},
   "source": [
    "5. Enter Server **\"localhost\"**, Database **\"Data_Gov_Project\"** and click **\"OK\"**\n",
    "<img src=\"https://raw.githubusercontent.com/YvonneLipLim/Images/main/EnterDBInfo_PBI.png\" alt=\"Alt Text\" width=\"800\">"
   ]
  },
  {
   "cell_type": "markdown",
   "id": "902204ea",
   "metadata": {},
   "source": [
    "6. Connection will establish and you can select the tables from Data_Gov_Project database\n",
    "<img src=\"https://raw.githubusercontent.com/YvonneLipLim/Images/main/SelectTables_PBI.png\" alt=\"Alt Text\" width=\"800\">"
   ]
  },
  {
   "cell_type": "markdown",
   "id": "78433042",
   "metadata": {},
   "source": [
    "7. System will take a few minutes to load and you can perform the analysis once complete\n",
    "<img src=\"https://raw.githubusercontent.com/YvonneLipLim/Images/main/TablesReady_PBI.png\" alt=\"Alt Text\" width=\"800\">"
   ]
  }
 ],
 "metadata": {
  "hide_input": false,
  "kernelspec": {
   "display_name": "Python 3",
   "language": "python",
   "name": "python3"
  },
  "language_info": {
   "codemirror_mode": {
    "name": "ipython",
    "version": 3
   },
   "file_extension": ".py",
   "mimetype": "text/x-python",
   "name": "python",
   "nbconvert_exporter": "python",
   "pygments_lexer": "ipython3",
   "version": "3.11.9"
  }
 },
 "nbformat": 4,
 "nbformat_minor": 5
}
